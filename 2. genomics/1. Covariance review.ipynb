{
 "cells": [
  {
   "cell_type": "code",
   "execution_count": 1,
   "id": "1b9d09cc",
   "metadata": {},
   "outputs": [],
   "source": [
    "import numpy as np"
   ]
  },
  {
   "cell_type": "code",
   "execution_count": 2,
   "id": "4ca05bd2",
   "metadata": {},
   "outputs": [],
   "source": [
    "matrix = np.array([\n",
    "    [8,4,7],\n",
    "    [2,8,1],\n",
    "    [3,1,1],\n",
    "    [9,7,4]\n",
    "])"
   ]
  },
  {
   "cell_type": "code",
   "execution_count": 3,
   "id": "25c8d01a",
   "metadata": {},
   "outputs": [
    {
     "data": {
      "text/plain": [
       "array([5.5 , 5.  , 3.25])"
      ]
     },
     "execution_count": 3,
     "metadata": {},
     "output_type": "execute_result"
    }
   ],
   "source": [
    "matrix.mean(0)"
   ]
  },
  {
   "cell_type": "code",
   "execution_count": 21,
   "id": "4aa62fa9",
   "metadata": {},
   "outputs": [],
   "source": [
    "def covariance(X: np.array):\n",
    "    n = matrix.shape[0]\n",
    "    return 1/n* X.T@ (np.identity(n) - 1/n*np.ones((n,n))) @ X"
   ]
  },
  {
   "cell_type": "code",
   "execution_count": 22,
   "id": "e559f147",
   "metadata": {},
   "outputs": [
    {
     "data": {
      "text/plain": [
       "array([[9.25  , 1.    , 6.375 ],\n",
       "       [1.    , 7.5   , 0.    ],\n",
       "       [6.375 , 0.    , 6.1875]])"
      ]
     },
     "execution_count": 22,
     "metadata": {},
     "output_type": "execute_result"
    }
   ],
   "source": [
    "covariance(matrix)"
   ]
  },
  {
   "cell_type": "markdown",
   "id": "8c5ffadb",
   "metadata": {},
   "source": [
    "#### orthogonal projection"
   ]
  },
  {
   "cell_type": "code",
   "execution_count": 23,
   "id": "bb551997",
   "metadata": {},
   "outputs": [],
   "source": [
    "n=3\n",
    "H = np.identity(n) - 1/n*(np.ones((n,n)))"
   ]
  },
  {
   "cell_type": "code",
   "execution_count": 36,
   "id": "3baa2b37",
   "metadata": {},
   "outputs": [
    {
     "data": {
      "text/plain": [
       "array([[ 0.66666667, -0.33333333, -0.33333333],\n",
       "       [-0.33333333,  0.66666667, -0.33333333],\n",
       "       [-0.33333333, -0.33333333,  0.66666667]])"
      ]
     },
     "execution_count": 36,
     "metadata": {},
     "output_type": "execute_result"
    }
   ],
   "source": [
    "H"
   ]
  },
  {
   "cell_type": "code",
   "execution_count": 28,
   "id": "64d1f5d9",
   "metadata": {},
   "outputs": [],
   "source": [
    "x = np.array([2,-1,-2])"
   ]
  },
  {
   "cell_type": "code",
   "execution_count": 30,
   "id": "19f8bc63",
   "metadata": {},
   "outputs": [
    {
     "data": {
      "text/plain": [
       "array([ 2.33333333, -0.66666667, -1.66666667])"
      ]
     },
     "execution_count": 30,
     "metadata": {},
     "output_type": "execute_result"
    }
   ],
   "source": [
    "(H@x)"
   ]
  },
  {
   "cell_type": "code",
   "execution_count": 35,
   "id": "977b80df",
   "metadata": {},
   "outputs": [
    {
     "data": {
      "text/plain": [
       "array([ 2.33333333, -0.66666667, -1.66666667])"
      ]
     },
     "execution_count": 35,
     "metadata": {},
     "output_type": "execute_result"
    }
   ],
   "source": [
    "(H@H.T) @ x"
   ]
  },
  {
   "cell_type": "markdown",
   "id": "3ceb5460",
   "metadata": {},
   "source": [
    "#### projection"
   ]
  },
  {
   "cell_type": "code",
   "execution_count": 54,
   "id": "10103f0d",
   "metadata": {},
   "outputs": [],
   "source": [
    "u = 1/np.sqrt(5) * np.array([1,2])"
   ]
  },
  {
   "cell_type": "code",
   "execution_count": 55,
   "id": "b7ccdbaa",
   "metadata": {},
   "outputs": [],
   "source": [
    "data = np.array([\n",
    "    [1,2],\n",
    "    [3,4],\n",
    "    [-1,0]\n",
    "])"
   ]
  },
  {
   "cell_type": "code",
   "execution_count": 56,
   "id": "90700fe4",
   "metadata": {},
   "outputs": [],
   "source": [
    "u = u.reshape(1,-1)"
   ]
  },
  {
   "cell_type": "code",
   "execution_count": 115,
   "id": "f2c8b3cf",
   "metadata": {},
   "outputs": [
    {
     "data": {
      "text/plain": [
       "array([[ 1. ,  2. ],\n",
       "       [ 2.2,  4.4],\n",
       "       [-0.2, -0.4]])"
      ]
     },
     "execution_count": 115,
     "metadata": {},
     "output_type": "execute_result"
    }
   ],
   "source": [
    "np.sum(u*data, axis=1, keepdims=True)*u #projections"
   ]
  },
  {
   "cell_type": "code",
   "execution_count": null,
   "id": "b1cee57a",
   "metadata": {},
   "outputs": [],
   "source": [
    "#empirical distance u*Xi"
   ]
  },
  {
   "cell_type": "code",
   "execution_count": 124,
   "id": "fb4b0519",
   "metadata": {},
   "outputs": [],
   "source": [
    "## part 1\n",
    "projections = np.sum(u*data, axis=1, keepdims=True).flatten()"
   ]
  },
  {
   "cell_type": "code",
   "execution_count": 125,
   "id": "9c382641",
   "metadata": {},
   "outputs": [
    {
     "data": {
      "text/plain": [
       "4.800000000000001"
      ]
     },
     "execution_count": 125,
     "metadata": {},
     "output_type": "execute_result"
    }
   ],
   "source": [
    "1/n * projections.T @ (np.identity(n) - 1/n*np.ones((n,n))) @ projections"
   ]
  },
  {
   "cell_type": "code",
   "execution_count": 119,
   "id": "bc346d45",
   "metadata": {},
   "outputs": [],
   "source": [
    "n = data.shape[0]\n",
    "S = 1/n * data.T @ (np.identity(n) - 1/n*np.ones((n,n))) @ data #cov"
   ]
  },
  {
   "cell_type": "code",
   "execution_count": 120,
   "id": "5ce5c1fe",
   "metadata": {},
   "outputs": [
    {
     "data": {
      "text/plain": [
       "array([[2.66666667, 2.66666667],\n",
       "       [2.66666667, 2.66666667]])"
      ]
     },
     "execution_count": 120,
     "metadata": {},
     "output_type": "execute_result"
    }
   ],
   "source": [
    "S"
   ]
  },
  {
   "cell_type": "code",
   "execution_count": 121,
   "id": "ecf4858f",
   "metadata": {},
   "outputs": [
    {
     "data": {
      "text/plain": [
       "(2, 2)"
      ]
     },
     "execution_count": 121,
     "metadata": {},
     "output_type": "execute_result"
    }
   ],
   "source": [
    "S.shape"
   ]
  },
  {
   "cell_type": "code",
   "execution_count": 122,
   "id": "a06fcc8f",
   "metadata": {},
   "outputs": [
    {
     "data": {
      "text/plain": [
       "(1, 2)"
      ]
     },
     "execution_count": 122,
     "metadata": {},
     "output_type": "execute_result"
    }
   ],
   "source": [
    "u.shape"
   ]
  },
  {
   "cell_type": "code",
   "execution_count": 123,
   "id": "b2d076a9",
   "metadata": {},
   "outputs": [
    {
     "data": {
      "text/plain": [
       "array([[4.8]])"
      ]
     },
     "execution_count": 123,
     "metadata": {},
     "output_type": "execute_result"
    }
   ],
   "source": [
    "###part2\n",
    "\n",
    "u @ S @ u.T"
   ]
  },
  {
   "cell_type": "code",
   "execution_count": null,
   "id": "1648e443",
   "metadata": {},
   "outputs": [],
   "source": []
  }
 ],
 "metadata": {
  "kernelspec": {
   "display_name": "Python 3 (ipykernel)",
   "language": "python",
   "name": "python3"
  },
  "language_info": {
   "codemirror_mode": {
    "name": "ipython",
    "version": 3
   },
   "file_extension": ".py",
   "mimetype": "text/x-python",
   "name": "python",
   "nbconvert_exporter": "python",
   "pygments_lexer": "ipython3",
   "version": "3.9.7"
  }
 },
 "nbformat": 4,
 "nbformat_minor": 5
}
