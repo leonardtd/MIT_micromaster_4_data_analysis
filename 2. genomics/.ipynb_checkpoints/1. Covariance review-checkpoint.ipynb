{
 "cells": [
  {
   "cell_type": "code",
   "execution_count": 1,
   "id": "1b9d09cc",
   "metadata": {},
   "outputs": [],
   "source": [
    "import numpy as np"
   ]
  },
  {
   "cell_type": "code",
   "execution_count": 2,
   "id": "4ca05bd2",
   "metadata": {},
   "outputs": [],
   "source": [
    "matrix = np.array([\n",
    "    [8,4,7],\n",
    "    [2,8,1],\n",
    "    [3,1,1],\n",
    "    [9,7,4]\n",
    "])"
   ]
  },
  {
   "cell_type": "code",
   "execution_count": 3,
   "id": "25c8d01a",
   "metadata": {},
   "outputs": [
    {
     "data": {
      "text/plain": [
       "array([5.5 , 5.  , 3.25])"
      ]
     },
     "execution_count": 3,
     "metadata": {},
     "output_type": "execute_result"
    }
   ],
   "source": [
    "matrix.mean(0)"
   ]
  },
  {
   "cell_type": "code",
   "execution_count": 4,
   "id": "4aa62fa9",
   "metadata": {},
   "outputs": [],
   "source": [
    "def covariance(X: np.array):\n",
    "    n = matrix.shape[0]\n",
    "    return 1/n* X.T@ (np.identity(n) - 1/n*np.ones((n,n))) @ X"
   ]
  },
  {
   "cell_type": "code",
   "execution_count": 5,
   "id": "e559f147",
   "metadata": {},
   "outputs": [
    {
     "data": {
      "text/plain": [
       "array([[9.25  , 1.    , 6.375 ],\n",
       "       [1.    , 7.5   , 0.    ],\n",
       "       [6.375 , 0.    , 6.1875]])"
      ]
     },
     "execution_count": 5,
     "metadata": {},
     "output_type": "execute_result"
    }
   ],
   "source": [
    "covariance(matrix)"
   ]
  },
  {
   "cell_type": "markdown",
   "id": "8c5ffadb",
   "metadata": {},
   "source": [
    "#### orthogonal projection"
   ]
  },
  {
   "cell_type": "code",
   "execution_count": 6,
   "id": "bb551997",
   "metadata": {},
   "outputs": [],
   "source": [
    "n=3\n",
    "H = np.identity(n) - 1/n*(np.ones((n,n)))"
   ]
  },
  {
   "cell_type": "code",
   "execution_count": 7,
   "id": "3baa2b37",
   "metadata": {},
   "outputs": [
    {
     "data": {
      "text/plain": [
       "array([[ 0.66666667, -0.33333333, -0.33333333],\n",
       "       [-0.33333333,  0.66666667, -0.33333333],\n",
       "       [-0.33333333, -0.33333333,  0.66666667]])"
      ]
     },
     "execution_count": 7,
     "metadata": {},
     "output_type": "execute_result"
    }
   ],
   "source": [
    "H"
   ]
  },
  {
   "cell_type": "code",
   "execution_count": 8,
   "id": "64d1f5d9",
   "metadata": {},
   "outputs": [],
   "source": [
    "x = np.array([2,-1,-2])"
   ]
  },
  {
   "cell_type": "code",
   "execution_count": 9,
   "id": "19f8bc63",
   "metadata": {},
   "outputs": [
    {
     "data": {
      "text/plain": [
       "array([ 2.33333333, -0.66666667, -1.66666667])"
      ]
     },
     "execution_count": 9,
     "metadata": {},
     "output_type": "execute_result"
    }
   ],
   "source": [
    "(H@x)"
   ]
  },
  {
   "cell_type": "code",
   "execution_count": 10,
   "id": "977b80df",
   "metadata": {},
   "outputs": [
    {
     "data": {
      "text/plain": [
       "array([ 2.33333333, -0.66666667, -1.66666667])"
      ]
     },
     "execution_count": 10,
     "metadata": {},
     "output_type": "execute_result"
    }
   ],
   "source": [
    "(H@H.T) @ x"
   ]
  },
  {
   "cell_type": "markdown",
   "id": "3ceb5460",
   "metadata": {},
   "source": [
    "#### projection"
   ]
  },
  {
   "cell_type": "code",
   "execution_count": 11,
   "id": "10103f0d",
   "metadata": {},
   "outputs": [],
   "source": [
    "u = 1/np.sqrt(5) * np.array([1,2])"
   ]
  },
  {
   "cell_type": "code",
   "execution_count": 12,
   "id": "b7ccdbaa",
   "metadata": {},
   "outputs": [],
   "source": [
    "data = np.array([\n",
    "    [1,2],\n",
    "    [3,4],\n",
    "    [-1,0]\n",
    "])"
   ]
  },
  {
   "cell_type": "code",
   "execution_count": 13,
   "id": "90700fe4",
   "metadata": {},
   "outputs": [],
   "source": [
    "u = u.reshape(1,-1)"
   ]
  },
  {
   "cell_type": "code",
   "execution_count": 14,
   "id": "f2c8b3cf",
   "metadata": {},
   "outputs": [
    {
     "data": {
      "text/plain": [
       "array([[ 1. ,  2. ],\n",
       "       [ 2.2,  4.4],\n",
       "       [-0.2, -0.4]])"
      ]
     },
     "execution_count": 14,
     "metadata": {},
     "output_type": "execute_result"
    }
   ],
   "source": [
    "np.sum(u*data, axis=1, keepdims=True)*u #projections"
   ]
  },
  {
   "cell_type": "code",
   "execution_count": 15,
   "id": "b1cee57a",
   "metadata": {},
   "outputs": [],
   "source": [
    "#empirical distance u*Xi"
   ]
  },
  {
   "cell_type": "code",
   "execution_count": 16,
   "id": "fb4b0519",
   "metadata": {},
   "outputs": [],
   "source": [
    "## part 1\n",
    "projections = np.sum(u*data, axis=1, keepdims=True).flatten()"
   ]
  },
  {
   "cell_type": "code",
   "execution_count": 17,
   "id": "9c382641",
   "metadata": {},
   "outputs": [
    {
     "data": {
      "text/plain": [
       "4.800000000000001"
      ]
     },
     "execution_count": 17,
     "metadata": {},
     "output_type": "execute_result"
    }
   ],
   "source": [
    "1/n * projections.T @ (np.identity(n) - 1/n*np.ones((n,n))) @ projections"
   ]
  },
  {
   "cell_type": "code",
   "execution_count": 18,
   "id": "bc346d45",
   "metadata": {},
   "outputs": [],
   "source": [
    "n = data.shape[0]\n",
    "S = 1/n * data.T @ (np.identity(n) - 1/n*np.ones((n,n))) @ data #cov"
   ]
  },
  {
   "cell_type": "code",
   "execution_count": 19,
   "id": "5ce5c1fe",
   "metadata": {},
   "outputs": [
    {
     "data": {
      "text/plain": [
       "array([[2.66666667, 2.66666667],\n",
       "       [2.66666667, 2.66666667]])"
      ]
     },
     "execution_count": 19,
     "metadata": {},
     "output_type": "execute_result"
    }
   ],
   "source": [
    "S"
   ]
  },
  {
   "cell_type": "code",
   "execution_count": 20,
   "id": "ecf4858f",
   "metadata": {},
   "outputs": [
    {
     "data": {
      "text/plain": [
       "(2, 2)"
      ]
     },
     "execution_count": 20,
     "metadata": {},
     "output_type": "execute_result"
    }
   ],
   "source": [
    "S.shape"
   ]
  },
  {
   "cell_type": "code",
   "execution_count": 21,
   "id": "a06fcc8f",
   "metadata": {},
   "outputs": [
    {
     "data": {
      "text/plain": [
       "(1, 2)"
      ]
     },
     "execution_count": 21,
     "metadata": {},
     "output_type": "execute_result"
    }
   ],
   "source": [
    "u.shape"
   ]
  },
  {
   "cell_type": "code",
   "execution_count": 22,
   "id": "b2d076a9",
   "metadata": {},
   "outputs": [
    {
     "data": {
      "text/plain": [
       "array([[4.8]])"
      ]
     },
     "execution_count": 22,
     "metadata": {},
     "output_type": "execute_result"
    }
   ],
   "source": [
    "###part2\n",
    "\n",
    "u @ S @ u.T"
   ]
  },
  {
   "cell_type": "markdown",
   "id": "745fa91e",
   "metadata": {},
   "source": [
    "---"
   ]
  },
  {
   "cell_type": "code",
   "execution_count": 23,
   "id": "eaa0dbc2",
   "metadata": {},
   "outputs": [],
   "source": [
    "### 9.\n",
    "X = np.array([\n",
    "    [0,1],\n",
    "    [0,-1]\n",
    "])"
   ]
  },
  {
   "cell_type": "code",
   "execution_count": 24,
   "id": "5edb5a9e",
   "metadata": {},
   "outputs": [],
   "source": [
    "n= 2\n",
    "\n",
    "S = 1/n * X.T @ X"
   ]
  },
  {
   "cell_type": "code",
   "execution_count": 26,
   "id": "84d47da7",
   "metadata": {},
   "outputs": [
    {
     "data": {
      "text/plain": [
       "(array([0., 1.]),\n",
       " array([[1., 0.],\n",
       "        [0., 1.]]))"
      ]
     },
     "execution_count": 26,
     "metadata": {},
     "output_type": "execute_result"
    }
   ],
   "source": [
    "np.linalg.eig(S)"
   ]
  },
  {
   "cell_type": "code",
   "execution_count": 25,
   "id": "c15ef39f",
   "metadata": {},
   "outputs": [
    {
     "data": {
      "text/plain": [
       "array([[0., 0.],\n",
       "       [0., 1.]])"
      ]
     },
     "execution_count": 25,
     "metadata": {},
     "output_type": "execute_result"
    }
   ],
   "source": [
    "S"
   ]
  },
  {
   "cell_type": "code",
   "execution_count": 40,
   "id": "c5e8a57f",
   "metadata": {},
   "outputs": [],
   "source": [
    "### optional 10.\n",
    "X = np.array([\n",
    "    [1, 0.5],\n",
    "    [-1,-0.5]\n",
    "])\n",
    "\n",
    "n= 1\n",
    "\n",
    "S = 1/n * X.T @ X"
   ]
  },
  {
   "cell_type": "code",
   "execution_count": 41,
   "id": "ba84fac1",
   "metadata": {},
   "outputs": [
    {
     "data": {
      "text/plain": [
       "array([[2. , 1. ],\n",
       "       [1. , 0.5]])"
      ]
     },
     "execution_count": 41,
     "metadata": {},
     "output_type": "execute_result"
    }
   ],
   "source": [
    "S"
   ]
  },
  {
   "cell_type": "code",
   "execution_count": 43,
   "id": "74d4c54b",
   "metadata": {},
   "outputs": [],
   "source": [
    "eig_vals, eig_vec = np.linalg.eig(S)\n",
    "\n",
    "eig_vec = eig_vec.T"
   ]
  },
  {
   "cell_type": "code",
   "execution_count": 49,
   "id": "76c765d6",
   "metadata": {},
   "outputs": [
    {
     "data": {
      "text/plain": [
       "1.118033988749895"
      ]
     },
     "execution_count": 49,
     "metadata": {},
     "output_type": "execute_result"
    }
   ],
   "source": [
    "np.inner(X[0], eig_vec[0])"
   ]
  },
  {
   "cell_type": "code",
   "execution_count": 50,
   "id": "ab40e113",
   "metadata": {},
   "outputs": [
    {
     "data": {
      "text/plain": [
       "-1.118033988749895"
      ]
     },
     "execution_count": 50,
     "metadata": {},
     "output_type": "execute_result"
    }
   ],
   "source": [
    "np.inner(X[1], eig_vec[0])\n"
   ]
  },
  {
   "cell_type": "code",
   "execution_count": 51,
   "id": "1b800eb0",
   "metadata": {},
   "outputs": [],
   "source": [
    "### 11. Optional\n",
    "### optional 10.\n",
    "X = np.array([\n",
    "    [0,2],\n",
    "    [1,-1],\n",
    "    [-1,-1]\n",
    "])\n",
    "\n",
    "n= X.shape[0]\n",
    "\n",
    "S = 1/n * X.T @ X"
   ]
  },
  {
   "cell_type": "code",
   "execution_count": 52,
   "id": "48b0a8ff",
   "metadata": {},
   "outputs": [
    {
     "data": {
      "text/plain": [
       "array([[0.66666667, 0.        ],\n",
       "       [0.        , 2.        ]])"
      ]
     },
     "execution_count": 52,
     "metadata": {},
     "output_type": "execute_result"
    }
   ],
   "source": [
    "S"
   ]
  },
  {
   "cell_type": "code",
   "execution_count": 53,
   "id": "3d3a6ee5",
   "metadata": {},
   "outputs": [
    {
     "data": {
      "text/plain": [
       "array([0.66666667, 2.        ])"
      ]
     },
     "execution_count": 53,
     "metadata": {},
     "output_type": "execute_result"
    }
   ],
   "source": [
    "eig_vals, eig_vec = np.linalg.eig(S)\n",
    "\n",
    "eig_vec = eig_vec.T\n",
    "eig_vals"
   ]
  },
  {
   "cell_type": "code",
   "execution_count": 73,
   "id": "9317ab9f",
   "metadata": {},
   "outputs": [],
   "source": [
    "PC1 = eig_vec[1].reshape(1,-1)"
   ]
  },
  {
   "cell_type": "code",
   "execution_count": 74,
   "id": "2889e501",
   "metadata": {},
   "outputs": [
    {
     "data": {
      "text/plain": [
       "(3, 2)"
      ]
     },
     "execution_count": 74,
     "metadata": {},
     "output_type": "execute_result"
    }
   ],
   "source": [
    "X.shape"
   ]
  },
  {
   "cell_type": "code",
   "execution_count": 75,
   "id": "392f4c94",
   "metadata": {},
   "outputs": [
    {
     "data": {
      "text/plain": [
       "(1, 2)"
      ]
     },
     "execution_count": 75,
     "metadata": {},
     "output_type": "execute_result"
    }
   ],
   "source": [
    "PC1.shape"
   ]
  },
  {
   "cell_type": "code",
   "execution_count": 79,
   "id": "8043391a",
   "metadata": {},
   "outputs": [
    {
     "data": {
      "text/plain": [
       "array([ 2., -1., -1.])"
      ]
     },
     "execution_count": 79,
     "metadata": {},
     "output_type": "execute_result"
    }
   ],
   "source": [
    "(X*PC1).sum(1)"
   ]
  },
  {
   "cell_type": "code",
   "execution_count": 80,
   "id": "0a3509e3",
   "metadata": {},
   "outputs": [
    {
     "data": {
      "text/plain": [
       "2.0"
      ]
     },
     "execution_count": 80,
     "metadata": {},
     "output_type": "execute_result"
    }
   ],
   "source": [
    "np.var((X*PC1).sum(1))"
   ]
  },
  {
   "cell_type": "code",
   "execution_count": 81,
   "id": "87878528",
   "metadata": {},
   "outputs": [],
   "source": [
    "### 12. Optional\n",
    "\n",
    "X = np.array([\n",
    "    [0,2],\n",
    "    [0,-2],\n",
    "    [1,1],\n",
    "    [-1,-1],\n",
    "])\n",
    "\n",
    "n= X.shape[0]\n",
    "\n",
    "S = 1/n * X.T @ X"
   ]
  },
  {
   "cell_type": "code",
   "execution_count": 83,
   "id": "a6156aa8",
   "metadata": {},
   "outputs": [
    {
     "data": {
      "text/plain": [
       "array([0.38196601, 2.61803399])"
      ]
     },
     "execution_count": 83,
     "metadata": {},
     "output_type": "execute_result"
    }
   ],
   "source": [
    "eig_vals, eig_vec = np.linalg.eig(S)\n",
    "\n",
    "eig_vec = eig_vec.T\n",
    "eig_vals"
   ]
  },
  {
   "cell_type": "code",
   "execution_count": 85,
   "id": "11fac7d7",
   "metadata": {},
   "outputs": [
    {
     "data": {
      "text/plain": [
       "array([[-0.97324899,  0.22975292],\n",
       "       [-0.22975292, -0.97324899]])"
      ]
     },
     "execution_count": 85,
     "metadata": {},
     "output_type": "execute_result"
    }
   ],
   "source": [
    "eig_vec"
   ]
  },
  {
   "cell_type": "markdown",
   "id": "5842ef09",
   "metadata": {},
   "source": [
    "#### MDS"
   ]
  },
  {
   "cell_type": "code",
   "execution_count": 86,
   "id": "61e965a9",
   "metadata": {},
   "outputs": [],
   "source": [
    "X = np.array([\n",
    "    [1,1],\n",
    "    [1,-1],\n",
    "    [-1,1]\n",
    "])"
   ]
  },
  {
   "cell_type": "code",
   "execution_count": 88,
   "id": "eacc3ffa",
   "metadata": {},
   "outputs": [
    {
     "data": {
      "text/plain": [
       "array([[ 2,  0,  0],\n",
       "       [ 0,  2, -2],\n",
       "       [ 0, -2,  2]])"
      ]
     },
     "execution_count": 88,
     "metadata": {},
     "output_type": "execute_result"
    }
   ],
   "source": [
    "B = X @ X.T\n",
    "B"
   ]
  },
  {
   "cell_type": "code",
   "execution_count": 103,
   "id": "5dcff130",
   "metadata": {},
   "outputs": [],
   "source": [
    "eig_values, eig_vec = np.linalg.eig(B)"
   ]
  },
  {
   "cell_type": "code",
   "execution_count": 114,
   "id": "7d3ea39c",
   "metadata": {},
   "outputs": [
    {
     "data": {
      "text/plain": [
       "array([4.0000000e+00, 4.4408921e-16, 2.0000000e+00])"
      ]
     },
     "execution_count": 114,
     "metadata": {},
     "output_type": "execute_result"
    }
   ],
   "source": [
    "eig_values"
   ]
  },
  {
   "cell_type": "code",
   "execution_count": 120,
   "id": "21743177",
   "metadata": {},
   "outputs": [
    {
     "data": {
      "text/plain": [
       "array([ 0.        , -1.41421356,  1.41421356])"
      ]
     },
     "execution_count": 120,
     "metadata": {},
     "output_type": "execute_result"
    }
   ],
   "source": [
    "eig_vec @ np.sqrt((np.identity(3)*eig_values))[:,0] #projection to 1d"
   ]
  }
 ],
 "metadata": {
  "kernelspec": {
   "display_name": "Python 3 (ipykernel)",
   "language": "python",
   "name": "python3"
  },
  "language_info": {
   "codemirror_mode": {
    "name": "ipython",
    "version": 3
   },
   "file_extension": ".py",
   "mimetype": "text/x-python",
   "name": "python",
   "nbconvert_exporter": "python",
   "pygments_lexer": "ipython3",
   "version": "3.9.7"
  }
 },
 "nbformat": 4,
 "nbformat_minor": 5
}
