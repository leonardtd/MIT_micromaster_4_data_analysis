{
 "cells": [
  {
   "cell_type": "code",
   "execution_count": 31,
   "metadata": {},
   "outputs": [],
   "source": [
    "import numpy as np\n",
    "from scipy import stats"
   ]
  },
  {
   "cell_type": "code",
   "execution_count": 2,
   "metadata": {},
   "outputs": [],
   "source": [
    "LogPlanetMass = np.array([-0.31471074,  1.01160091,  0.58778666,  0.46373402, -0.01005034,\n",
    "         0.66577598, -1.30933332, -0.37106368, -0.40047757, -0.27443685,\n",
    "         1.30833282, -0.46840491, -1.91054301,  0.16551444,  0.78845736,\n",
    "        -2.43041846,  0.21511138,  2.29253476, -2.05330607, -0.43078292,\n",
    "        -4.98204784, -0.48776035, -1.69298258, -0.08664781, -2.28278247,\n",
    "         3.30431931, -3.27016912,  1.14644962, -3.10109279, -0.61248928])\n",
    "\n",
    "LogPlanetRadius = np.array([ 0.32497786,  0.34712953,  0.14842001,  0.45742485,  0.1889661 ,\n",
    "         0.06952606,  0.07696104,  0.3220835 ,  0.42918163, -0.05762911,\n",
    "         0.40546511,  0.19227189, -0.16251893,  0.45107562,  0.3825376 ,\n",
    "        -0.82098055,  0.10436002,  0.0295588 , -1.17921515,  0.55961579,\n",
    "        -2.49253568,  0.11243543, -0.72037861,  0.36464311, -0.46203546,\n",
    "         0.13976194, -2.70306266,  0.12221763, -2.41374014,  0.35627486])\n",
    "\n",
    "LogPlanetOrbit = np.array([-2.63108916, -3.89026151, -3.13752628, -2.99633245, -3.12356565,\n",
    "        -2.33924908, -2.8507665 , -3.04765735, -2.84043939, -3.19004544,\n",
    "        -3.14655516, -3.13729584, -3.09887303, -3.09004295, -3.16296819,\n",
    "        -2.3227878 , -3.77661837, -2.52572864, -4.13641734, -3.05018846,\n",
    "        -2.40141145, -3.14795149, -0.40361682, -3.2148838 , -2.74575207,\n",
    "        -3.70014265, -1.98923527, -3.35440922, -1.96897409, -2.99773428])\n",
    "\n",
    "StarMetallicity = np.array([ 0.11 , -0.002, -0.4  ,  0.01 ,  0.15 ,  0.22 , -0.01 ,  0.02 ,\n",
    "        -0.06 , -0.127,  0.   ,  0.12 ,  0.27 ,  0.09 , -0.077,  0.3  ,\n",
    "         0.14 , -0.07 ,  0.19 , -0.02 ,  0.12 ,  0.251,  0.07 ,  0.16 ,\n",
    "         0.19 ,  0.052, -0.32 ,  0.258,  0.02 , -0.17 ])\n",
    "\n",
    "LogStarMass = np.array([ 0.27002714,  0.19144646, -0.16369609,  0.44468582,  0.19227189,\n",
    "         0.01291623,  0.0861777 ,  0.1380213 ,  0.49469624, -0.43850496,\n",
    "         0.54232429,  0.02469261,  0.07325046,  0.42133846,  0.2592826 ,\n",
    "        -0.09431068, -0.24846136, -0.12783337, -0.07364654,  0.26159474,\n",
    "         0.07603469, -0.07796154,  0.09440068,  0.07510747,  0.17395331,\n",
    "         0.28893129, -0.21940057,  0.02566775, -0.09211529,  0.16551444])\n",
    "\n",
    "LogStarAge = np.array([ 1.58103844,  1.06471074,  2.39789527,  0.72754861,  0.55675456,\n",
    "         1.91692261,  1.64865863,  1.38629436,  0.77472717,  1.36097655,\n",
    "         0.        ,  1.80828877,  1.7837273 ,  0.64185389,  0.69813472,\n",
    "         2.39789527, -0.35667494,  1.79175947,  1.90210753,  1.39624469,\n",
    "         1.84054963,  2.19722458,  1.89761986,  1.84054963,  0.74193734,\n",
    "         0.55961579,  1.79175947,  0.91629073,  2.17475172,  1.36097655])\n",
    "\n",
    "N = 30"
   ]
  },
  {
   "cell_type": "code",
   "execution_count": 3,
   "metadata": {},
   "outputs": [],
   "source": [
    "y = LogPlanetMass"
   ]
  },
  {
   "cell_type": "code",
   "execution_count": 12,
   "metadata": {},
   "outputs": [],
   "source": [
    "intercept = np.ones(N)\n",
    "X = np.column_stack([\n",
    "intercept,\n",
    "LogPlanetRadius, \n",
    "LogPlanetOrbit, \n",
    "StarMetallicity, \n",
    "LogStarMass, \n",
    "LogStarAge])"
   ]
  },
  {
   "cell_type": "code",
   "execution_count": 13,
   "metadata": {},
   "outputs": [
    {
     "data": {
      "text/plain": [
       "(30, 6)"
      ]
     },
     "execution_count": 13,
     "metadata": {},
     "output_type": "execute_result"
    }
   ],
   "source": [
    "X.shape"
   ]
  },
  {
   "attachments": {
    "image.png": {
     "image/png": "[encoded data removed]"
    }
   },
   "cell_type": "markdown",
   "metadata": {},
   "source": [
    "![image.png](attachment:image.png)"
   ]
  },
  {
   "cell_type": "code",
   "execution_count": 14,
   "metadata": {},
   "outputs": [],
   "source": [
    "beta = np.linalg.inv((X.T @ X)) @ X.T @ y"
   ]
  },
  {
   "cell_type": "code",
   "execution_count": 17,
   "metadata": {},
   "outputs": [
    {
     "data": {
      "text/plain": [
       "array([ 0.154,  1.402, -0.141, -1.6  , -0.956, -0.462])"
      ]
     },
     "execution_count": 17,
     "metadata": {},
     "output_type": "execute_result"
    }
   ],
   "source": [
    "beta.round(3)"
   ]
  },
  {
   "attachments": {},
   "cell_type": "markdown",
   "metadata": {},
   "source": [
    "#### t_test calc"
   ]
  },
  {
   "cell_type": "code",
   "execution_count": 49,
   "metadata": {},
   "outputs": [],
   "source": [
    "p = X.shape[1]"
   ]
  },
  {
   "cell_type": "code",
   "execution_count": 57,
   "metadata": {},
   "outputs": [],
   "source": [
    "cov = np.sqrt(np.linalg.inv(X.T @ X).diagonal())"
   ]
  },
  {
   "cell_type": "code",
   "execution_count": 58,
   "metadata": {},
   "outputs": [],
   "source": [
    "variance = np.linalg.norm(y-(X@beta))**2/(N-p)\n",
    "std = variance**0.5"
   ]
  },
  {
   "cell_type": "code",
   "execution_count": 59,
   "metadata": {},
   "outputs": [],
   "source": [
    "T_statistic = beta/(std*cov)"
   ]
  },
  {
   "cell_type": "code",
   "execution_count": 66,
   "metadata": {},
   "outputs": [
    {
     "data": {
      "text/plain": [
       "0.9127570057958605"
      ]
     },
     "execution_count": 66,
     "metadata": {},
     "output_type": "execute_result"
    }
   ],
   "source": [
    "stats.t.sf(np.abs(T_statistic[0]), N-p)*2"
   ]
  },
  {
   "cell_type": "code",
   "execution_count": 60,
   "metadata": {},
   "outputs": [
    {
     "data": {
      "text/plain": [
       "array([ 0.11072266,  4.89460135, -0.39188875, -1.27904669, -0.85601298,\n",
       "       -1.24278459])"
      ]
     },
     "execution_count": 60,
     "metadata": {},
     "output_type": "execute_result"
    }
   ],
   "source": [
    "T_statistic"
   ]
  },
  {
   "cell_type": "code",
   "execution_count": 73,
   "metadata": {},
   "outputs": [
    {
     "name": "stdout",
     "output_type": "stream",
     "text": [
      "p-value: 0.91276\n",
      "p-value: 0.00005\n",
      "p-value: 0.69860\n",
      "p-value: 0.21311\n",
      "p-value: 0.40046\n",
      "p-value: 0.22595\n"
     ]
    }
   ],
   "source": [
    "for t in T_statistic:\n",
    "    print(f'p-value: {stats.t.sf(np.abs(t), df=N-p)*2:.5f}')"
   ]
  }
 ],
 "metadata": {
  "kernelspec": {
   "display_name": "base",
   "language": "python",
   "name": "python3"
  },
  "language_info": {
   "codemirror_mode": {
    "name": "ipython",
    "version": 3
   },
   "file_extension": ".py",
   "mimetype": "text/x-python",
   "name": "python",
   "nbconvert_exporter": "python",
   "pygments_lexer": "ipython3",
   "version": "3.8.8"
  },
  "orig_nbformat": 4,
  "vscode": {
   "interpreter": {
    "hash": "ad2bdc8ecc057115af97d19610ffacc2b4e99fae6737bb82f5d7fb13d2f2c186"
   }
  }
 },
 "nbformat": 4,
 "nbformat_minor": 2
}
