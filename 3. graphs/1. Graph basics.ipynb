{
 "cells": [
  {
   "cell_type": "code",
   "execution_count": 1,
   "id": "20cce165",
   "metadata": {},
   "outputs": [],
   "source": [
    "import numpy as np"
   ]
  },
  {
   "cell_type": "code",
   "execution_count": 2,
   "id": "c97acd2f",
   "metadata": {},
   "outputs": [],
   "source": [
    "A = np.array(\n",
    "    [[1,1,0],\n",
    "     [0,0,1],\n",
    "     [1,0,0]]\n",
    ")"
   ]
  },
  {
   "cell_type": "code",
   "execution_count": 5,
   "id": "3500047a",
   "metadata": {},
   "outputs": [
    {
     "data": {
      "text/plain": [
       "array([[1, 1, 1],\n",
       "       [1, 0, 0],\n",
       "       [1, 1, 0]])"
      ]
     },
     "execution_count": 5,
     "metadata": {},
     "output_type": "execute_result"
    }
   ],
   "source": [
    "A @ A"
   ]
  },
  {
   "cell_type": "code",
   "execution_count": 4,
   "id": "fbecf4ff",
   "metadata": {},
   "outputs": [
    {
     "data": {
      "text/plain": [
       "array([[2, 1, 1],\n",
       "       [1, 1, 0],\n",
       "       [1, 1, 1]])"
      ]
     },
     "execution_count": 4,
     "metadata": {},
     "output_type": "execute_result"
    }
   ],
   "source": [
    "A @ A @ A"
   ]
  },
  {
   "cell_type": "markdown",
   "id": "b13b37f8",
   "metadata": {},
   "source": [
    "#### 2. Graph metrics"
   ]
  },
  {
   "cell_type": "code",
   "execution_count": 6,
   "id": "31a006ae",
   "metadata": {},
   "outputs": [],
   "source": [
    "A = np.array(\n",
    "[[0, 1, 0, 1, 0, 1, 0, 0, 0, 0],\n",
    "[1, 0, 1, 1, 1, 0, 0, 0, 0, 0],\n",
    "[0, 1, 0, 0, 0, 0, 0, 0, 0, 0],\n",
    "[1, 1, 0, 0, 0, 1, 0, 1, 1, 0],\n",
    "[0, 1, 0, 0, 0, 0, 0, 0, 1, 1],\n",
    "[1, 0, 0, 1, 0, 0, 0, 0, 0, 0],\n",
    "[0, 0, 0, 0, 0, 0, 0, 0, 0, 1],\n",
    "[0, 0, 0, 1, 0, 0, 0, 0, 0, 0],\n",
    "[0, 0, 0, 1, 1, 0, 0, 0, 0, 1],\n",
    "[0, 0, 0, 0, 1, 0, 1, 0, 1, 0]]\n",
    ")"
   ]
  },
  {
   "cell_type": "code",
   "execution_count": 13,
   "id": "cea8a182",
   "metadata": {},
   "outputs": [
    {
     "data": {
      "text/plain": [
       "True"
      ]
     },
     "execution_count": 13,
     "metadata": {},
     "output_type": "execute_result"
    }
   ],
   "source": [
    "A.diagonal().sum() == 0 #Simple graph"
   ]
  },
  {
   "cell_type": "code",
   "execution_count": 14,
   "id": "09f2616b",
   "metadata": {},
   "outputs": [
    {
     "data": {
      "text/plain": [
       "True"
      ]
     },
     "execution_count": 14,
     "metadata": {},
     "output_type": "execute_result"
    }
   ],
   "source": [
    "(A == A.T).all() #Undirected"
   ]
  },
  {
   "cell_type": "code",
   "execution_count": 15,
   "id": "a7b4365c",
   "metadata": {},
   "outputs": [
    {
     "data": {
      "text/plain": [
       "array([3, 4, 1, 5, 3, 2, 1, 1, 3, 3])"
      ]
     },
     "execution_count": 15,
     "metadata": {},
     "output_type": "execute_result"
    }
   ],
   "source": [
    "A.sum(0)"
   ]
  },
  {
   "cell_type": "code",
   "execution_count": 21,
   "id": "db66d87a",
   "metadata": {},
   "outputs": [
    {
     "data": {
      "text/plain": [
       "array([[19, 14,  7, 21, 12, 11,  2,  7, 11,  5],\n",
       "       [14, 28,  2, 14,  6, 17,  2, 10, 19, 10],\n",
       "       [ 7,  2,  4, 10,  7,  2,  1,  1,  2,  2],\n",
       "       [21, 14, 10, 37, 20, 11,  2,  4,  8, 11],\n",
       "       [12,  6,  7, 20, 18,  4,  5,  2,  9,  9],\n",
       "       [11, 17,  2, 11,  4, 12,  1,  7, 11,  4],\n",
       "       [ 2,  2,  1,  2,  5,  1,  3,  1,  5,  2],\n",
       "       [ 7, 10,  1,  4,  2,  7,  1,  5,  8,  2],\n",
       "       [11, 19,  2,  8,  9, 11,  5,  8, 19,  9],\n",
       "       [ 5, 10,  2, 11,  9,  4,  2,  2,  9, 13]])"
      ]
     },
     "execution_count": 21,
     "metadata": {},
     "output_type": "execute_result"
    }
   ],
   "source": [
    "A @ A.T @ A.T @ A.T #l=4"
   ]
  },
  {
   "cell_type": "code",
   "execution_count": 22,
   "id": "b939880b",
   "metadata": {},
   "outputs": [
    {
     "name": "stderr",
     "output_type": "stream",
     "text": [
      "C:\\ProgramData\\Anaconda3\\lib\\site-packages\\scipy\\__init__.py:146: UserWarning: A NumPy version >=1.16.5 and <1.23.0 is required for this version of SciPy (detected version 1.24.2\n",
      "  warnings.warn(f\"A NumPy version >={np_minversion} and <{np_maxversion}\"\n"
     ]
    },
    {
     "data": {
      "text/plain": [
       "(1, array([0, 0, 0, 0, 0, 0, 0, 0, 0, 0]))"
      ]
     },
     "execution_count": 22,
     "metadata": {},
     "output_type": "execute_result"
    }
   ],
   "source": [
    "from scipy.sparse.csgraph import connected_components\n",
    "connected_components(A)"
   ]
  },
  {
   "cell_type": "code",
   "execution_count": 24,
   "id": "900d5db0",
   "metadata": {},
   "outputs": [
    {
     "data": {
      "text/plain": [
       "5"
      ]
     },
     "execution_count": 24,
     "metadata": {},
     "output_type": "execute_result"
    }
   ],
   "source": [
    "A.sum(0).max() #max deg"
   ]
  },
  {
   "cell_type": "code",
   "execution_count": 25,
   "id": "4d3f33bf",
   "metadata": {},
   "outputs": [
    {
     "data": {
      "text/plain": [
       "array([[46, 59, 14, 62, 30, 40,  5, 21, 38, 25],\n",
       "       [59, 36, 28, 88, 57, 28, 10, 14, 30, 27],\n",
       "       [14, 28,  2, 14,  6, 17,  2, 10, 19, 10],\n",
       "       [62, 88, 14, 58, 33, 58, 11, 37, 68, 30],\n",
       "       [30, 57,  6, 33, 24, 32,  9, 20, 47, 32],\n",
       "       [40, 28, 17, 58, 32, 22,  4, 11, 19, 16],\n",
       "       [ 5, 10,  2, 11,  9,  4,  2,  2,  9, 13],\n",
       "       [21, 14, 10, 37, 20, 11,  2,  4,  8, 11],\n",
       "       [38, 30, 19, 68, 47, 19,  9,  8, 26, 33],\n",
       "       [25, 27, 10, 30, 32, 16, 13, 11, 33, 20]])"
      ]
     },
     "execution_count": 25,
     "metadata": {},
     "output_type": "execute_result"
    }
   ],
   "source": [
    "A @ A.T @ A.T @ A.T @ A.T"
   ]
  },
  {
   "cell_type": "markdown",
   "id": "49024960",
   "metadata": {},
   "source": [
    "---"
   ]
  },
  {
   "cell_type": "markdown",
   "id": "ac6f9710",
   "metadata": {},
   "source": [
    "#### Graph metrics pt2"
   ]
  },
  {
   "cell_type": "code",
   "execution_count": 30,
   "id": "5c8ad5da",
   "metadata": {},
   "outputs": [],
   "source": [
    "edge_list = np.loadtxt('release_directed_graph.txt').astype(int)"
   ]
  },
  {
   "cell_type": "code",
   "execution_count": 31,
   "id": "996e4437",
   "metadata": {},
   "outputs": [
    {
     "data": {
      "text/plain": [
       "(99, 99)"
      ]
     },
     "execution_count": 31,
     "metadata": {},
     "output_type": "execute_result"
    }
   ],
   "source": [
    "edge_list[:,0].max(), edge_list[:,1].max() #N nodes = 100"
   ]
  },
  {
   "cell_type": "code",
   "execution_count": 32,
   "id": "72c045dc",
   "metadata": {},
   "outputs": [
    {
     "data": {
      "text/plain": [
       "(1030, 2)"
      ]
     },
     "execution_count": 32,
     "metadata": {},
     "output_type": "execute_result"
    }
   ],
   "source": [
    "edge_list.shape #edges"
   ]
  },
  {
   "cell_type": "code",
   "execution_count": 36,
   "id": "9a1e27e8",
   "metadata": {},
   "outputs": [],
   "source": [
    "A = np.zeros((edge_list[:,0].max()+1,edge_list[:,0].max()+1))\n",
    "\n",
    "for i in range(edge_list.shape[0]):\n",
    "    A[edge_list[i,0],edge_list[i,1]] = 1"
   ]
  },
  {
   "cell_type": "code",
   "execution_count": 38,
   "id": "620c9810",
   "metadata": {},
   "outputs": [
    {
     "data": {
      "text/plain": [
       "False"
      ]
     },
     "execution_count": 38,
     "metadata": {},
     "output_type": "execute_result"
    }
   ],
   "source": [
    "A.diagonal().sum() == 0"
   ]
  },
  {
   "cell_type": "code",
   "execution_count": 41,
   "id": "df94b495",
   "metadata": {},
   "outputs": [
    {
     "data": {
      "text/plain": [
       "3.0"
      ]
     },
     "execution_count": 41,
     "metadata": {},
     "output_type": "execute_result"
    }
   ],
   "source": [
    "A.sum(0).min()"
   ]
  },
  {
   "cell_type": "code",
   "execution_count": 45,
   "id": "8c351da0",
   "metadata": {},
   "outputs": [
    {
     "data": {
      "text/plain": [
       "0.103"
      ]
     },
     "execution_count": 45,
     "metadata": {},
     "output_type": "execute_result"
    }
   ],
   "source": [
    "ratio = edge_list.shape[0]/((edge_list[:,0].max()+1)**2)\n",
    "ratio"
   ]
  },
  {
   "cell_type": "markdown",
   "id": "ed757a9d",
   "metadata": {},
   "source": [
    "---"
   ]
  },
  {
   "cell_type": "markdown",
   "id": "8e7ecd6d",
   "metadata": {},
   "source": [
    "#### Modularity"
   ]
  },
  {
   "cell_type": "code",
   "execution_count": 86,
   "id": "79891571",
   "metadata": {},
   "outputs": [],
   "source": [
    "A = np.array(\n",
    "[[0, 1, 0, 1, 0, 1, 0, 0, 0, 0],\n",
    "[1, 0, 1, 1, 1, 0, 0, 0, 0, 0],\n",
    "[0, 1, 0, 0, 0, 0, 0, 0, 0, 0],\n",
    "[1, 1, 0, 0, 0, 1, 0, 1, 1, 0],\n",
    "[0, 1, 0, 0, 0, 0, 0, 0, 1, 1],\n",
    "[1, 0, 0, 1, 0, 0, 0, 0, 0, 0],\n",
    "[0, 0, 0, 0, 0, 0, 0, 0, 0, 1],\n",
    "[0, 0, 0, 1, 0, 0, 0, 0, 0, 0],\n",
    "[0, 0, 0, 1, 1, 0, 0, 0, 0, 1],\n",
    "[0, 0, 0, 0, 1, 0, 1, 0, 1, 0]]\n",
    ")"
   ]
  },
  {
   "cell_type": "code",
   "execution_count": 87,
   "id": "f26a915b",
   "metadata": {},
   "outputs": [],
   "source": [
    "def type(x):\n",
    "    if x in [0,2,4,6,8]:\n",
    "        return 1\n",
    "    else:\n",
    "        return 2"
   ]
  },
  {
   "cell_type": "code",
   "execution_count": 101,
   "id": "47384231",
   "metadata": {},
   "outputs": [],
   "source": [
    "degs = A.sum(0)\n",
    "n_edges = A.sum()/2"
   ]
  },
  {
   "cell_type": "code",
   "execution_count": 102,
   "id": "bcc4d78b",
   "metadata": {},
   "outputs": [
    {
     "data": {
      "text/plain": [
       "array([3, 4, 1, 5, 3, 2, 1, 1, 3, 3])"
      ]
     },
     "execution_count": 102,
     "metadata": {},
     "output_type": "execute_result"
    }
   ],
   "source": [
    "degs"
   ]
  },
  {
   "cell_type": "code",
   "execution_count": 103,
   "id": "2639ea68",
   "metadata": {},
   "outputs": [
    {
     "data": {
      "text/plain": [
       "-0.6153846153846154"
      ]
     },
     "execution_count": 103,
     "metadata": {},
     "output_type": "execute_result"
    }
   ],
   "source": [
    "(A[1,1] - (degs[1]*degs[1])/(2*n_edges))*(1*(type(1)==type(1)))"
   ]
  },
  {
   "cell_type": "code",
   "execution_count": 104,
   "id": "791ff6b2",
   "metadata": {},
   "outputs": [],
   "source": [
    "### modularity\n",
    "mod = 0\n",
    "for i in range(10):\n",
    "    for j in range(10):\n",
    "        mod = mod +  (A[i,j] - (degs[i]*degs[j])/(2*n_edges))*(1*(type(i)==type(j)))\n",
    "mod = mod/(2*n_edges)"
   ]
  },
  {
   "cell_type": "code",
   "execution_count": 105,
   "id": "07fa3735",
   "metadata": {},
   "outputs": [
    {
     "data": {
      "text/plain": [
       "-0.2041420118343195"
      ]
     },
     "execution_count": 105,
     "metadata": {},
     "output_type": "execute_result"
    }
   ],
   "source": [
    "mod"
   ]
  },
  {
   "cell_type": "markdown",
   "id": "b1adcf17",
   "metadata": {},
   "source": [
    "---"
   ]
  },
  {
   "cell_type": "markdown",
   "id": "c48f7598",
   "metadata": {},
   "source": [
    "#### Eigenvector centrality"
   ]
  },
  {
   "cell_type": "code",
   "execution_count": 108,
   "id": "e9937256",
   "metadata": {},
   "outputs": [],
   "source": [
    "import networkx as nx"
   ]
  },
  {
   "cell_type": "code",
   "execution_count": 109,
   "id": "c1e68f55",
   "metadata": {},
   "outputs": [],
   "source": [
    "A = np.array(\n",
    "[[1,0,0,0],\n",
    "[1,0,0,0],\n",
    "[1,0,0,0],\n",
    "[1,0,0,0]]\n",
    ")"
   ]
  },
  {
   "cell_type": "code",
   "execution_count": 110,
   "id": "6abe4ce2",
   "metadata": {},
   "outputs": [
    {
     "data": {
      "text/plain": [
       "array([4, 0, 0, 0])"
      ]
     },
     "execution_count": 110,
     "metadata": {},
     "output_type": "execute_result"
    }
   ],
   "source": [
    "A.sum(0)"
   ]
  },
  {
   "cell_type": "code",
   "execution_count": 111,
   "id": "f558954c",
   "metadata": {},
   "outputs": [],
   "source": [
    "G=nx.from_numpy_matrix(A,create_using=nx.DiGraph())"
   ]
  },
  {
   "cell_type": "code",
   "execution_count": 112,
   "id": "4d7aff18",
   "metadata": {},
   "outputs": [
    {
     "data": {
      "text/plain": [
       "{0: 0.9999999999986358,\n",
       " 1: 9.536770448968607e-07,\n",
       " 2: 9.536770448968607e-07,\n",
       " 3: 9.536770448968607e-07}"
      ]
     },
     "execution_count": 112,
     "metadata": {},
     "output_type": "execute_result"
    }
   ],
   "source": [
    "nx.eigenvector_centrality(G)"
   ]
  },
  {
   "cell_type": "code",
   "execution_count": 113,
   "id": "0b5599f4",
   "metadata": {},
   "outputs": [],
   "source": [
    "A = np.array(\n",
    "[[1,1,1,1],\n",
    "[0,0,0,0],\n",
    "[0,0,0,0],\n",
    "[0,0,0,0]]\n",
    ")"
   ]
  },
  {
   "cell_type": "code",
   "execution_count": 116,
   "id": "98e650e1",
   "metadata": {},
   "outputs": [
    {
     "data": {
      "text/plain": [
       "array([1, 1, 1, 1])"
      ]
     },
     "execution_count": 116,
     "metadata": {},
     "output_type": "execute_result"
    }
   ],
   "source": [
    "A.sum(0)"
   ]
  },
  {
   "cell_type": "code",
   "execution_count": 117,
   "id": "c2117ded",
   "metadata": {},
   "outputs": [],
   "source": [
    "G=nx.from_numpy_matrix(A,create_using=nx.DiGraph())"
   ]
  },
  {
   "cell_type": "code",
   "execution_count": 118,
   "id": "ff44ebfd",
   "metadata": {},
   "outputs": [
    {
     "data": {
      "text/plain": [
       "{0: 0.5, 1: 0.5, 2: 0.5, 3: 0.5}"
      ]
     },
     "execution_count": 118,
     "metadata": {},
     "output_type": "execute_result"
    }
   ],
   "source": [
    "nx.eigenvector_centrality(G)"
   ]
  },
  {
   "cell_type": "code",
   "execution_count": 119,
   "id": "348bea0e",
   "metadata": {},
   "outputs": [],
   "source": [
    "A = np.array(\n",
    "[[1,1,1,1],\n",
    "[1,0,0,0],\n",
    "[1,0,0,0],\n",
    "[1,0,0,0]]\n",
    ")"
   ]
  },
  {
   "cell_type": "code",
   "execution_count": 120,
   "id": "ba8739e8",
   "metadata": {},
   "outputs": [],
   "source": [
    "G=nx.from_numpy_matrix(A,create_using=nx.DiGraph())"
   ]
  },
  {
   "cell_type": "code",
   "execution_count": 121,
   "id": "fc5402a0",
   "metadata": {},
   "outputs": [
    {
     "data": {
      "text/plain": [
       "{0: 0.7991714905460789,\n",
       " 1: 0.34704703269074766,\n",
       " 2: 0.34704703269074766,\n",
       " 3: 0.34704703269074766}"
      ]
     },
     "execution_count": 121,
     "metadata": {},
     "output_type": "execute_result"
    }
   ],
   "source": [
    "nx.eigenvector_centrality(G)"
   ]
  }
 ],
 "metadata": {
  "kernelspec": {
   "display_name": "Python 3 (ipykernel)",
   "language": "python",
   "name": "python3"
  },
  "language_info": {
   "codemirror_mode": {
    "name": "ipython",
    "version": 3
   },
   "file_extension": ".py",
   "mimetype": "text/x-python",
   "name": "python",
   "nbconvert_exporter": "python",
   "pygments_lexer": "ipython3",
   "version": "3.8.8"
  }
 },
 "nbformat": 4,
 "nbformat_minor": 5
}
